{
 "cells": [
  {
   "cell_type": "markdown",
   "metadata": {},
   "source": [
    "## Importaciones"
   ]
  },
  {
   "cell_type": "code",
   "execution_count": null,
   "metadata": {},
   "outputs": [],
   "source": [
    "%matplotlib inline\n",
    "import pandas as pd\n",
    "from numpy import NaN\n",
    "import matplotlib.pyplot as plt\n",
    "import seaborn as sns\n",
    "from sklearn.decomposition import PCA\n",
    "from sklearn.preprocessing import StandardScaler\n",
    "from mlxtend.frequent_patterns import apriori\n",
    "from mlxtend.frequent_patterns import association_rules"
   ]
  },
  {
   "cell_type": "code",
   "execution_count": null,
   "metadata": {},
   "outputs": [],
   "source": [
    "url = \"https://raw.githubusercontent.com/AndresBeta123/ProyectoDataMining-2023/main/title_complete_csv.csv\"\n",
    "title_complete = pd.read_csv(url)\n"
   ]
  },
  {
   "cell_type": "code",
   "execution_count": null,
   "metadata": {},
   "outputs": [],
   "source": [
    "url = \"https://raw.githubusercontent.com/AndresBeta123/ProyectoDataMining-2023/main/principals_complete_csv.csv\"\n",
    "principals_complete = pd.read_csv(url)"
   ]
  },
  {
   "cell_type": "code",
   "execution_count": null,
   "metadata": {},
   "outputs": [],
   "source": [
    "title_complete"
   ]
  },
  {
   "cell_type": "code",
   "execution_count": null,
   "metadata": {},
   "outputs": [],
   "source": [
    "principals_complete"
   ]
  },
  {
   "cell_type": "markdown",
   "metadata": {},
   "source": [
    "## parte del procesamiento"
   ]
  },
  {
   "cell_type": "code",
   "execution_count": null,
   "metadata": {},
   "outputs": [],
   "source": [
    "print(title_complete.dtypes)"
   ]
  },
  {
   "cell_type": "code",
   "execution_count": null,
   "metadata": {},
   "outputs": [],
   "source": [
    "#correccion de tipo de datos\n",
    "#se cambia \\\\N por nullos dentro del dataset \n",
    "title_complete['tconst'] = title_complete['tconst'].astype(str)\n",
    "title_complete['genres'].replace('\\\\N',NaN,inplace=True)\n",
    "title_complete['genres'] = title_complete['genres'].astype(str)\n",
    "title_complete['runtimeMinutes'] = pd.to_numeric(title_complete['runtimeMinutes'],errors='coerce', downcast='integer')\n",
    "principals_complete['birthYear'] = pd.to_numeric(principals_complete['birthYear'],errors='coerce', downcast='integer')"
   ]
  },
  {
   "cell_type": "code",
   "execution_count": null,
   "metadata": {},
   "outputs": [],
   "source": [
    "#eliminacion de duplicados\n",
    "duplicados = title_complete[title_complete.duplicated(subset='tconst', keep='first')]\n",
    "#Display the duplicate rows\n",
    "print(\"Columnas duplicadas\")\n",
    "print(duplicados)\n",
    "\n",
    "# Remove duplicates based on the 'ID' column and keep the first occurrence\n",
    "title_complete = title_complete.drop_duplicates(subset='tconst', keep='first')\n",
    "principals_complete_no_duplicates = principals_complete.drop_duplicates(subset='nconst', keep='first')"
   ]
  },
  {
   "cell_type": "code",
   "execution_count": null,
   "metadata": {},
   "outputs": [],
   "source": [
    "data = title_complete.copy()\n",
    "\n",
    "print('Number of instances = %d' % (data.shape[0]))\n",
    "print('Number of attributes = %d' % (data.shape[1]))\n",
    "\n",
    "print('Number of missing values:')\n",
    "for col in data.columns:\n",
    "    print('\\t%s: %d' % (col,data[col].isna().sum()))"
   ]
  },
  {
   "cell_type": "code",
   "execution_count": null,
   "metadata": {},
   "outputs": [],
   "source": [
    "#Nuevas columnas para categoria\n",
    "title_complete['category 1'] = NaN\n",
    "title_complete['category 2'] = NaN\n",
    "title_complete['category 3'] = NaN"
   ]
  },
  {
   "cell_type": "code",
   "execution_count": null,
   "metadata": {},
   "outputs": [],
   "source": [
    "#Vamos a ver cuantos generos tenemos en total,así cómo volverlos numericos en base a su posición en la lista y ordenarlos para facilitar la visualización\n",
    "title_complete['genres'].replace('',)\n",
    "count = 0\n",
    "conjunto_Generos = set()\n",
    "listas_generos = []\n",
    "contador = []\n",
    "for i in range(len(title_complete['genres'])):\n",
    "    generos = title_complete['genres'].iloc[i]\n",
    "    generos = generos.split(\",\")\n",
    "    listas_generos.append(generos)\n",
    "    for genero in generos:\n",
    "        conjunto_Generos.add(genero)\n",
    "\n",
    "listaGeneros = list(conjunto_Generos)\n",
    "# Remplazar listas de géneros individuales por sus posiciones en la lista global\n",
    "for generos in listas_generos:\n",
    "    for i in range(len(generos)):\n",
    "        genero = generos[i]\n",
    "        generos[i] = listaGeneros.index(genero)\n",
    "        contador.append(listaGeneros.index(genero))\n",
    "\n",
    "\n",
    "for generos in listas_generos:\n",
    "    generos.sort()\n",
    "\n",
    "\n",
    "#Probablemente faltan categorias por la muestra\n",
    "print(len(conjunto_Generos))\n",
    "print(conjunto_Generos)\n",
    "print(listas_generos)"
   ]
  },
  {
   "cell_type": "code",
   "execution_count": null,
   "metadata": {},
   "outputs": [],
   "source": [
    "#Ingreamos nuestras categorias numericas cómo dato individual para las nuevas columnas\n",
    "for i in range(len(title_complete)):\n",
    "\n",
    "    for j in range(len(listas_generos[i])):\n",
    "        title_complete['category ' + str(j+1)].iloc[i] = listas_generos[i][j]+1\n",
    "\n",
    "#Rellenamos los espacios vacios con -1 = no hay categoria / no hay más categorias\n",
    "title_complete[['category 1','category 2','category 3']] = title_complete[['category 1','category 2','category 3']]"
   ]
  },
  {
   "cell_type": "code",
   "execution_count": null,
   "metadata": {},
   "outputs": [],
   "source": [
    "\n",
    "print(title_complete[['tconst','category 1','category 2','category 3']])"
   ]
  },
  {
   "cell_type": "markdown",
   "metadata": {},
   "source": [
    "# Analisis Exploratorio"
   ]
  },
  {
   "cell_type": "code",
   "execution_count": null,
   "metadata": {},
   "outputs": [],
   "source": [
    "title_complete\n",
    "Q1 = title_complete['runtimeMinutes'].quantile(0.25)\n",
    "Q3 = title_complete['runtimeMinutes'].quantile(0.75)\n",
    "IQR = Q3 - Q1\n",
    "\n",
    "lower_bound = Q1 - 1.5 * IQR\n",
    "upper_bound = Q3 + 1.5 * IQR\n",
    "\n",
    "# se cambia el valor de los outliers para que queden con la moda \n",
    "\n",
    "moda = int(title_complete['runtimeMinutes'].mode())\n",
    "\n",
    "title_complete['runtimeMinutes'].apply(lambda x: moda if x < lower_bound or x > upper_bound else x)\n",
    "title_complete[['runtimeMinutes']].boxplot()\n",
    "\n",
    "#Add a title\n",
    "plt.title('Boxplot of Selected Columns')\n",
    "#Show the plot\n",
    "plt.show()"
   ]
  },
  {
   "cell_type": "code",
   "execution_count": null,
   "metadata": {},
   "outputs": [],
   "source": [
    "title_complete.describe()"
   ]
  },
  {
   "cell_type": "code",
   "execution_count": null,
   "metadata": {},
   "outputs": [],
   "source": [
    "#Contamos cuantas peliculas hay po cada genero\n",
    "df_inicial = pd.DataFrame(contador, columns=['Conteo'])\n",
    "df = pd.DataFrame(columns=['Conteo','Valor Porcentual'])\n",
    "# Utilizar la función 'value_counts' para contar las ocurrencias de cada número y ordenarlos egun el indice\n",
    "df['Conteo'] = pd.DataFrame(df_inicial['Conteo'].value_counts().sort_index())\n",
    "# Llenar el valor porcentual de cada genero respeceto al total de peliculas\n",
    "df['Valor Porcentual'] = df['Conteo'] / len(title_complete)\n",
    "print(df)"
   ]
  },
  {
   "cell_type": "code",
   "execution_count": null,
   "metadata": {},
   "outputs": [],
   "source": [
    "# Cuantas peliculas de cada genero se hacen por año para detemrinar el más popular.\n",
    "\n",
    "# Utiliza melt para \"desplegar\" las tres columnas en una sola columna llamada 'category'\n",
    "title_complete_melted = pd.melt(title_complete, id_vars=['startYear'], value_vars=['category 1', 'category 2', 'category 3'], value_name='category')\n",
    "\n",
    "# Ahora, realiza groupby en la columna 'startYear' y 'category' para contar las coincidencias\n",
    "coincidencias_por_categoria = title_complete_melted.groupby(['startYear', 'category'])['category'].count()\n",
    "\n",
    "# Encuentra la categoría que más se repite por cada año (índice de la categoría con recuento máximo)\n",
    "categoria_mas_comun_por_año = coincidencias_por_categoria.groupby('startYear').idxmax()\n",
    "\n",
    "# Obtiene la categoría más común por año\n",
    "categorias_mas_comunes = categoria_mas_comun_por_año.apply(lambda x: x[1])\n",
    "\n",
    "# Obtén el número de veces que se repite la categoría más popular por año\n",
    "numero_repeticiones_mas_popular = coincidencias_por_categoria.groupby('startYear').max()\n",
    "\n",
    "# Crea un DataFrame con las categorías más comunes y el número de repeticiones\n",
    "resultado = pd.DataFrame({'CategoriaMasComun': categorias_mas_comunes, 'NumeroRepeticionesMasPopular': numero_repeticiones_mas_popular})\n",
    "\n",
    "for i in range(len(resultado['CategoriaMasComun'])):\n",
    "    resultado['CategoriaMasComun'][i] = list(conjunto_Generos)[int(resultado['CategoriaMasComun'][i])-1]\n",
    "\n",
    "# Combinar año y género más popular en una sola etiqueta para el eje x\n",
    "etiquetas_x = resultado.index.astype(str) + ' - ' + resultado['CategoriaMasComun']\n",
    "\n",
    "# Crear una figura y un eje para el gráfico\n",
    "fig, ax = plt.subplots(figsize=(20, 8))\n",
    "\n",
    "# Crear un gráfico de barras para mostrar el número de películas por año y género más popular\n",
    "plt.bar(etiquetas_x, resultado['NumeroRepeticionesMasPopular'])\n",
    "\n",
    "# Personalizar el gráfico\n",
    "plt.xlabel('Género Más Popular por año')\n",
    "plt.ylabel('Número de Películas')\n",
    "plt.title('Número de Películas por Año y Género Más Popular')\n",
    "plt.xticks(rotation=90, ha='right')  # Rotar las etiquetas del eje x para mayor legibilidad\n",
    "\n",
    "# Mostrar el gráfico\n",
    "plt.tight_layout()\n",
    "plt.show()\n",
    "\n"
   ]
  },
  {
   "cell_type": "code",
   "execution_count": null,
   "metadata": {},
   "outputs": [],
   "source": [
    "# Crear una figura y un eje para el gráfico\n",
    "fig, ax = plt.subplots(figsize=(20, 8))\n",
    "\n",
    "# Usar Matplotlib para crear un gráfico de barras\n",
    "title_complete.groupby(['startYear']).size().plot(kind='bar', ax=ax)\n",
    "\n",
    "# Personalizar el gráfico\n",
    "ax.set_xlabel('Año')\n",
    "ax.set_ylabel('Numero de Peliculas')\n",
    "ax.set_title('Numero de peliculas por año')\n",
    "plt.xticks(rotation=45)  # Rotar las etiquetas del eje x para mayor legibilidad\n",
    "\n",
    "# Mostrar el gráfico\n",
    "plt.tight_layout()\n",
    "plt.show()"
   ]
  },
  {
   "cell_type": "code",
   "execution_count": null,
   "metadata": {},
   "outputs": [],
   "source": [
    "# Crear una gráfica de barras para los conteos\n",
    "plt.figure(figsize=(13, 9))  # Ajusta el tamaño de la figura\n",
    "plt.bar(list(conjunto_Generos), df['Conteo'])\n",
    "plt.xlabel('Genero')\n",
    "plt.ylabel('Conteo')\n",
    "plt.title('Gráfico de Barras de Generos y su Conteo')\n",
    "plt.xticks(list(conjunto_Generos), list(conjunto_Generos), rotation=90)\n",
    "plt.show()"
   ]
  },
  {
   "cell_type": "code",
   "execution_count": null,
   "metadata": {},
   "outputs": [],
   "source": [
    "# Crear una gráfica de barras para los conteos\n",
    "plt.figure(figsize=(13, 9))  # Ajusta el tamaño de la figura\n",
    "plt.bar(list(conjunto_Generos), df['Valor Porcentual'])\n",
    "plt.xlabel('Genero')\n",
    "plt.ylabel('Conteo')\n",
    "plt.title('Gráfico de Barras de Generos y su Valor Porcentual')\n",
    "plt.xticks(list(conjunto_Generos), list(conjunto_Generos), rotation=90)\n",
    "plt.show()"
   ]
  },
  {
   "cell_type": "code",
   "execution_count": null,
   "metadata": {},
   "outputs": [],
   "source": [
    "y = title_complete['numVotes']\n",
    "x = title_complete['averageRating']\n",
    "\n",
    "plt.scatter(x, y, c='blue', marker='o', label='Puntos')\n",
    "plt.xlabel('Eje X')\n",
    "plt.ylabel('Eje Y')\n",
    "plt.title('Gráfico de dispersión de ejemplo')\n",
    "plt.legend()\n",
    "\n",
    "plt.show()"
   ]
  },
  {
   "cell_type": "code",
   "execution_count": null,
   "metadata": {},
   "outputs": [],
   "source": [
    "y = title_complete['runtimeMinutes']\n",
    "x = title_complete['numVotes']\n",
    "\n",
    "plt.scatter(x, y, c='blue', marker='o', label='Puntos')\n",
    "plt.xlabel('Eje X')\n",
    "plt.ylabel('Eje Y')\n",
    "plt.title('Gráfico de dispersión de ejemplo')\n",
    "plt.legend()\n",
    "\n",
    "plt.show()"
   ]
  },
  {
   "cell_type": "code",
   "execution_count": null,
   "metadata": {},
   "outputs": [],
   "source": [
    "hist = title_complete['numVotes'].hist()"
   ]
  },
  {
   "cell_type": "code",
   "execution_count": null,
   "metadata": {},
   "outputs": [],
   "source": [
    "hist = title_complete['averageRating'].hist()"
   ]
  },
  {
   "cell_type": "code",
   "execution_count": null,
   "metadata": {},
   "outputs": [],
   "source": [
    "hist = title_complete['runtimeMinutes'].hist() "
   ]
  },
  {
   "cell_type": "code",
   "execution_count": null,
   "metadata": {},
   "outputs": [],
   "source": [
    "title_complete['numVotes'].plot.kde()"
   ]
  },
  {
   "cell_type": "code",
   "execution_count": null,
   "metadata": {},
   "outputs": [],
   "source": [
    "ax = title_complete['averageRating'].plot.kde() #Ta rara, revisar"
   ]
  },
  {
   "cell_type": "code",
   "execution_count": null,
   "metadata": {},
   "outputs": [],
   "source": [
    "title_complete.describe()"
   ]
  },
  {
   "cell_type": "code",
   "execution_count": null,
   "metadata": {},
   "outputs": [],
   "source": [
    "#normalizacion de dato\n",
    "def normalizacionMinMax(column):\n",
    "    min_val = column.min()\n",
    "    max_val = column.max()\n",
    "    normalized_column = (column - min_val) / (max_val - min_val)\n",
    "    return normalized_column\n",
    "title_complete['runtimeMinutes'] = normalizacionMinMax(title_complete['runtimeMinutes'])\n",
    "title_complete['averageRating'] = normalizacionMinMax(title_complete['averageRating'])\n",
    "title_complete['numVotes'] = normalizacionMinMax(title_complete['numVotes'])"
   ]
  },
  {
   "cell_type": "code",
   "execution_count": null,
   "metadata": {},
   "outputs": [],
   "source": [
    "\n",
    "title_complete_withOutNan = title_complete.dropna()\n",
    "features = ['runtimeMinutes', 'numVotes', 'category 1', 'category 2','category 3']\n",
    "\n",
    "# Separating out the features\n",
    "x = title_complete_withOutNan.loc[:, features].values\n",
    "\n",
    "# Separating out the target\n",
    "y = title_complete_withOutNan.loc[:,['averageRating']].values\n",
    "\n",
    "x = StandardScaler().fit_transform(x)"
   ]
  },
  {
   "cell_type": "code",
   "execution_count": null,
   "metadata": {},
   "outputs": [],
   "source": [
    "pca = PCA(n_components=2)\n",
    "\n",
    "principalComponents = pca.fit_transform(x)\n",
    "\n",
    "principalDf = pd.DataFrame(data = principalComponents\n",
    "             , columns = ['principal component 1', 'principal component 2'])"
   ]
  },
  {
   "cell_type": "code",
   "execution_count": null,
   "metadata": {},
   "outputs": [],
   "source": [
    "finalDf = pd.concat([principalDf, title_complete_withOutNan[['averageRating']]], axis = 1)"
   ]
  },
  {
   "cell_type": "code",
   "execution_count": null,
   "metadata": {},
   "outputs": [],
   "source": [
    "finalDf"
   ]
  },
  {
   "cell_type": "code",
   "execution_count": null,
   "metadata": {},
   "outputs": [],
   "source": [
    "finalDf  = finalDf.dropna()\n",
    "finalDf  "
   ]
  },
  {
   "cell_type": "code",
   "execution_count": null,
   "metadata": {},
   "outputs": [],
   "source": [
    "\n",
    "x1 = finalDf['principal component 1']\n",
    "x2 = finalDf['principal component 2']\n",
    "y = finalDf['averageRating']\n",
    "plt.scatter(x1, y, c='blue', marker='o', label='Puntos')\n",
    "plt.scatter(x2, y, c='red', marker='x', label='Puntos')\n",
    "plt.xlabel('Eje X')\n",
    "plt.ylabel('Eje Y')\n",
    "plt.title('pca')\n",
    "plt.legend()\n",
    "\n",
    "plt.show()"
   ]
  },
  {
   "cell_type": "code",
   "execution_count": null,
   "metadata": {},
   "outputs": [],
   "source": [
    "#creacion de diagrama de cajas para deteccion de autlayers \n",
    "title_complete[['numVotes','averageRating','runtimeMinutes']].boxplot()\n",
    "# Add a title\n",
    "plt.title('Boxplot of Selected Columns')\n",
    "# Show the plot\n",
    "plt.show()"
   ]
  },
  {
   "cell_type": "code",
   "execution_count": null,
   "metadata": {},
   "outputs": [],
   "source": [
    "conteo_true = principals_complete_no_duplicates['isDead'].sum()\n",
    "conteo_false = len(principals_complete_no_duplicates['isDead']) - conteo_true\n",
    "etiquetas = ['True', 'False']\n",
    "conteos = [conteo_true, conteo_false]\n",
    "plt.bar(etiquetas, conteos)\n",
    "plt.title('Histograma de Booleanos')\n",
    "plt.xlabel('Valores')\n",
    "plt.ylabel('Frecuencia')\n",
    "plt.show()"
   ]
  },
  {
   "cell_type": "code",
   "execution_count": null,
   "metadata": {},
   "outputs": [],
   "source": [
    "ruta_carpeta =  \"C:/Users/andre/OneDrive/Escritorio/Universidad/DM/DataSetts/Proyecto\"\n",
    "title_complete_csv = \"title_complete_preprocesado.csv\" \n",
    "ruta_completa = f'{ruta_carpeta}/{title_complete_csv}'\n",
    "title_complete.to_csv(ruta_completa,index=False)"
   ]
  },
  {
   "cell_type": "code",
   "execution_count": null,
   "metadata": {},
   "outputs": [],
   "source": [
    "ruta_carpeta =  \"C:/Users/andre/OneDrive/Escritorio/Universidad/DM/DataSetts/Proyecto\"\n",
    "principals_complete_csv = \"principals_complete_preprocesado.csv\" \n",
    "ruta_completa = f'{ruta_carpeta}/{principals_complete_csv}'\n",
    "principals_complete.to_csv(ruta_completa,index=False)"
   ]
  }
 ],
 "metadata": {
  "kernelspec": {
   "display_name": "Python 3",
   "language": "python",
   "name": "python3"
  },
  "language_info": {
   "codemirror_mode": {
    "name": "ipython",
    "version": 3
   },
   "file_extension": ".py",
   "mimetype": "text/x-python",
   "name": "python",
   "nbconvert_exporter": "python",
   "pygments_lexer": "ipython3",
   "version": "3.11.5"
  },
  "orig_nbformat": 4
 },
 "nbformat": 4,
 "nbformat_minor": 2
}
