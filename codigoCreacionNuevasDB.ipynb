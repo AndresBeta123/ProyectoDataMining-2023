{
 "cells": [
  {
   "cell_type": "code",
   "execution_count": null,
   "metadata": {},
   "outputs": [],
   "source": [
    "pip install pandas"
   ]
  },
  {
   "cell_type": "code",
   "execution_count": 17,
   "metadata": {},
   "outputs": [],
   "source": [
    "import pandas as pd\n",
    "path_to_Databases = \"C:/Users/andre/OneDrive/Escritorio/Universidad/DM/DataSetts/Proyecto/\"\n",
    "# Especifica la ruta completa del archivo CSV o una URL\n",
    "path_name_basics_tsv = path_to_Databases+\"name_basics.tsv\" \n",
    "path_title_basics_tsv = path_to_Databases+\"title_basics.tsv\"\n",
    "#path_title_crew_tsv = path_to_Databases+\"title_crew.tsv\" #crew esta descartada \n",
    "path_title_principals_tsv = path_to_Databases+\"title_principals.tsv\"\n",
    "path_title_ratings_tsv = path_to_Databases+\"title_ratings.tsv\""
   ]
  },
  {
   "cell_type": "code",
   "execution_count": null,
   "metadata": {},
   "outputs": [],
   "source": [
    "# Carga el archivo CSV en un DataFrame\n",
    "df_name_basics = pd.read_csv(path_name_basics_tsv, delimiter='\\t')\n",
    "\n",
    "df_title_basics = pd.read_csv(path_title_basics_tsv, delimiter='\\t')\n",
    "\n",
    "df_title_principals = pd.read_csv(path_title_principals_tsv, delimiter='\\t')\n",
    "\n",
    "df_title_ratings = pd.read_csv(path_title_ratings_tsv, delimiter='\\t')"
   ]
  },
  {
   "cell_type": "code",
   "execution_count": 19,
   "metadata": {},
   "outputs": [],
   "source": [
    "#limpiando la base de datos title_basis\n",
    "del df_title_basics['originalTitle']\n",
    "del df_title_basics['isAdult']\n",
    "del df_title_basics['endYear']\n",
    "#limpiando todo lo que no son peliculas\n",
    "df_title_basics  = df_title_basics[(df_title_basics['titleType']== 'movie') | (df_title_basics['titleType'] == 'tvMovie')]\n",
    "#se elimina el type ya que todo son peliculas\n",
    "del df_title_basics['titleType']"
   ]
  },
  {
   "cell_type": "code",
   "execution_count": null,
   "metadata": {},
   "outputs": [],
   "source": [
    "#uniendo la tabla title_basics con la tabla title_ratings\n",
    "title_complete = pd.merge(df_title_basics,df_title_ratings,on = 'tconst',how='inner')"
   ]
  },
  {
   "cell_type": "code",
   "execution_count": null,
   "metadata": {},
   "outputs": [],
   "source": [
    "title_complete"
   ]
  },
  {
   "cell_type": "code",
   "execution_count": 21,
   "metadata": {},
   "outputs": [],
   "source": [
    "#eliminando las columnas inecesarias de title_principals \n",
    "del df_title_principals['job']\n",
    "del df_title_principals['characters']\n",
    "#se quitaron los datos que no nos interaban de category\n",
    "df_title_principals = df_title_principals[(df_title_principals['category']== 'self') \n",
    "                    |(df_title_principals['category'] == 'director') \n",
    "                    |(df_title_principals['category'] == 'actor')\n",
    "                    |(df_title_principals['category'] == 'actress')\n",
    "                    ]"
   ]
  },
  {
   "cell_type": "code",
   "execution_count": 22,
   "metadata": {},
   "outputs": [],
   "source": [
    "#se elimina las columnas inesesaria \n",
    "del df_name_basics['primaryProfession']\n",
    "del df_name_basics['knownForTitles']\n",
    "#se cambia el tipo de muerte a un booleano y se agrega en una nueva columna\n",
    "df_name_basics['isDead'] = df_name_basics['deathYear'].ne('\\\\N')\n",
    "#se elimina la antigua columna que ahora esta obsoleta\n",
    "del df_name_basics['deathYear']"
   ]
  },
  {
   "cell_type": "code",
   "execution_count": 23,
   "metadata": {},
   "outputs": [],
   "source": [
    "principals_complete = pd.merge(df_name_basics,df_title_principals,on = 'nconst',how='inner')\n",
    "principals_complete = principals_complete[(principals_complete['tconst'].isin(title_complete['tconst'])) ]"
   ]
  },
  {
   "cell_type": "code",
   "execution_count": null,
   "metadata": {},
   "outputs": [],
   "source": [
    "principals_complete "
   ]
  },
  {
   "cell_type": "code",
   "execution_count": 30,
   "metadata": {},
   "outputs": [],
   "source": [
    "ruta_carpeta =  \"C:/Users/andre/OneDrive/Escritorio/Universidad/DM/DataSetts/Proyecto\"\n",
    "title_complete_csv = \"title_complete_csv.csv\" \n",
    "ruta_completa = f'{ruta_carpeta}/{title_complete_csv}'\n",
    "title_complete.to_csv(ruta_completa,index=False)"
   ]
  },
  {
   "cell_type": "code",
   "execution_count": 31,
   "metadata": {},
   "outputs": [],
   "source": [
    "ruta_carpeta =  \"C:/Users/andre/OneDrive/Escritorio/Universidad/DM/DataSetts/Proyecto\"\n",
    "principals_complete_csv = \"principals_complete_csv.csv\" \n",
    "ruta_completa = f'{ruta_carpeta}/{principals_complete_csv}'\n",
    "principals_complete.to_csv(ruta_completa,index=False)"
   ]
  },
  {
   "cell_type": "code",
   "execution_count": null,
   "metadata": {},
   "outputs": [],
   "source": [
    "print(title_complete_csv)"
   ]
  }
 ],
 "metadata": {
  "kernelspec": {
   "display_name": "Python 3",
   "language": "python",
   "name": "python3"
  },
  "language_info": {
   "codemirror_mode": {
    "name": "ipython",
    "version": 3
   },
   "file_extension": ".py",
   "mimetype": "text/x-python",
   "name": "python",
   "nbconvert_exporter": "python",
   "pygments_lexer": "ipython3",
   "version": "3.11.5"
  },
  "orig_nbformat": 4
 },
 "nbformat": 4,
 "nbformat_minor": 2
}
