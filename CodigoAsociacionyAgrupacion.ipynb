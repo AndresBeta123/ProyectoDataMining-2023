{
 "cells": [
  {
   "cell_type": "code",
   "execution_count": null,
   "metadata": {},
   "outputs": [],
   "source": [
    "%matplotlib inline\n",
    "import pandas as pd\n",
    "import warnings\n",
    "import numpy as np\n",
    "from numpy import NaN\n",
    "import matplotlib.pyplot as plt\n",
    "import seaborn as sns\n",
    "from sklearn.decomposition import PCA\n",
    "from sklearn.preprocessing import StandardScaler\n",
    "from mlxtend.frequent_patterns import apriori\n",
    "from mlxtend.frequent_patterns import fpgrowth\n",
    "from mlxtend.frequent_patterns import association_rules"
   ]
  },
  {
   "cell_type": "code",
   "execution_count": null,
   "metadata": {},
   "outputs": [],
   "source": [
    "warnings.simplefilter(\"ignore\")"
   ]
  },
  {
   "cell_type": "code",
   "execution_count": null,
   "metadata": {},
   "outputs": [],
   "source": [
    "url = \"https://raw.githubusercontent.com/AndresBeta123/ProyectoDataMining-2023/main/title_complete_preprocesado.csv\"\n",
    "title_complete_preprocesado = pd.read_csv(url)"
   ]
  },
  {
   "cell_type": "code",
   "execution_count": null,
   "metadata": {},
   "outputs": [],
   "source": [
    "url = \"https://raw.githubusercontent.com/AndresBeta123/ProyectoDataMining-2023/main/principals_complete_preprocesado.csv\"\n",
    "principals_complete_preprocesado = pd.read_csv(url)"
   ]
  },
  {
   "cell_type": "markdown",
   "metadata": {},
   "source": [
    "# Asociacion"
   ]
  },
  {
   "cell_type": "code",
   "execution_count": null,
   "metadata": {},
   "outputs": [],
   "source": [
    "def generarMatrizDeAsociacion(data):\n",
    "    all_items = set()\n",
    "    for items_str in data:\n",
    "        items_list = [item.strip() for item in items_str.split(',')]\n",
    "        all_items.update(items_list)\n",
    "\n",
    "    # Crear un diccionario para almacenar los datos\n",
    "    data_dict = {}\n",
    "    for item in all_items:\n",
    "        data_dict[item] = []\n",
    "\n",
    "    # Llenar el diccionario con los valores True/False\n",
    "    for items_str in data:\n",
    "        #data_dict['ID'].append(tid)\n",
    "        items_list = [item.strip() for item in items_str.split(',')]\n",
    "        for item in all_items:\n",
    "            data_dict[item].append(item in items_list)\n",
    "\n",
    "    # Crear un DataFrame a partir del diccionario\n",
    "    return pd.DataFrame(data_dict)"
   ]
  },
  {
   "cell_type": "code",
   "execution_count": null,
   "metadata": {},
   "outputs": [],
   "source": [
    "def ReglasDeAsociacionApriori(df,support,confidence):\n",
    "    frequent_itemsets = apriori(df, min_support=support, use_colnames=True)\n",
    "    rules = association_rules(frequent_itemsets, metric='lift')\n",
    "    rules = rules[rules['confidence'] >= confidence]\n",
    "    rules.sort_values(by='confidence')\n",
    "    display(rules)"
   ]
  },
  {
   "cell_type": "code",
   "execution_count": null,
   "metadata": {},
   "outputs": [],
   "source": [
    "def ReglasDeAsociacionfpgrowth(df,support,confidence):\n",
    "    frequent_itemsets = fpgrowth(df, min_support=support, use_colnames=True)\n",
    "    rules = association_rules(frequent_itemsets, metric='lift')\n",
    "    rules = rules[rules['confidence'] >= confidence]\n",
    "    rules.sort_values(by='confidence')\n",
    "    display(rules)"
   ]
  },
  {
   "cell_type": "code",
   "execution_count": null,
   "metadata": {},
   "outputs": [],
   "source": [
    "data_generes_notNaN = title_complete_preprocesado['genres'].dropna()\n",
    "data_generes_NaN = title_complete_preprocesado['genres'].fillna('sinGenero')\n",
    "\n",
    "Matrix_generes_notNaN = generarMatrizDeAsociacion(data_generes_notNaN)\n",
    "Matrix_generes_NaN = generarMatrizDeAsociacion(data_generes_NaN)"
   ]
  },
  {
   "cell_type": "code",
   "execution_count": null,
   "metadata": {},
   "outputs": [],
   "source": [
    "minSupport = 0.0001\n",
    "minConfidence = 0.5"
   ]
  },
  {
   "cell_type": "markdown",
   "metadata": {},
   "source": [
    "## Apriori"
   ]
  },
  {
   "cell_type": "code",
   "execution_count": null,
   "metadata": {},
   "outputs": [],
   "source": [
    "ReglasDeAsociacionApriori(Matrix_generes_notNaN,minSupport,minConfidence)"
   ]
  },
  {
   "cell_type": "code",
   "execution_count": null,
   "metadata": {},
   "outputs": [],
   "source": [
    "ReglasDeAsociacionApriori(Matrix_generes_NaN,minSupport,minConfidence)"
   ]
  },
  {
   "cell_type": "markdown",
   "metadata": {},
   "source": [
    "## FP-Growth"
   ]
  },
  {
   "cell_type": "code",
   "execution_count": null,
   "metadata": {},
   "outputs": [],
   "source": [
    "ReglasDeAsociacionfpgrowth(Matrix_generes_notNaN,minSupport,minConfidence)"
   ]
  },
  {
   "cell_type": "code",
   "execution_count": null,
   "metadata": {},
   "outputs": [],
   "source": [
    "ReglasDeAsociacionfpgrowth(Matrix_generes_NaN,minSupport,minConfidence)"
   ]
  },
  {
   "cell_type": "markdown",
   "metadata": {},
   "source": [
    "# Clustering"
   ]
  },
  {
   "cell_type": "code",
   "execution_count": null,
   "metadata": {},
   "outputs": [],
   "source": [
    "import sklearn.cluster as sk"
   ]
  },
  {
   "cell_type": "code",
   "execution_count": null,
   "metadata": {},
   "outputs": [],
   "source": [
    "def plot_Codo(data,k):\n",
    "    K = range(2,k)\n",
    "    Sum_of_squared_distances = []\n",
    "    data = data.dropna()\n",
    "    for i in K:\n",
    "        data_clustered =  sk.KMeans(n_clusters=i, random_state=0,verbose = 0).fit(data)\n",
    "        Sum_of_squared_distances.append(data_clustered.inertia_)\n",
    "    plt.plot(K, Sum_of_squared_distances, 'bx-')\n",
    "    plt.xlabel('k')\n",
    "    plt.ylabel('SSE')\n",
    "    plt.show()"
   ]
  },
  {
   "cell_type": "code",
   "execution_count": null,
   "metadata": {},
   "outputs": [],
   "source": [
    "title_complete_preprocesado"
   ]
  },
  {
   "cell_type": "code",
   "execution_count": null,
   "metadata": {},
   "outputs": [],
   "source": [
    "dimensiones = ['runtimeMinutes','averageRating','numVotes']\n",
    "data_for_clustering = title_complete_preprocesado[dimensiones].copy()\n",
    "plot_Codo(data_for_clustering,10)"
   ]
  },
  {
   "cell_type": "code",
   "execution_count": null,
   "metadata": {},
   "outputs": [],
   "source": [
    "dimensiones = ['averageRating','numVotes']\n",
    "data_for_clustering = title_complete_preprocesado[dimensiones].copy()\n",
    "plot_Codo(data_for_clustering,10)"
   ]
  },
  {
   "cell_type": "code",
   "execution_count": null,
   "metadata": {},
   "outputs": [],
   "source": [
    "dimensiones = ['averageRating']\n",
    "data_for_clustering = title_complete_preprocesado[dimensiones].copy()\n",
    "plot_Codo(data_for_clustering,10)"
   ]
  },
  {
   "cell_type": "code",
   "execution_count": null,
   "metadata": {},
   "outputs": [],
   "source": [
    "dimensiones = ['category 1','averageRating']\n",
    "data_for_clustering = title_complete_preprocesado[dimensiones].copy()\n",
    "plot_Codo(data_for_clustering,10)"
   ]
  },
  {
   "cell_type": "code",
   "execution_count": null,
   "metadata": {},
   "outputs": [],
   "source": [
    "dimensiones = ['category 1']\n",
    "data_for_clustering = title_complete_preprocesado[dimensiones].copy()\n",
    "plot_Codo(data_for_clustering,10)"
   ]
  },
  {
   "cell_type": "code",
   "execution_count": null,
   "metadata": {},
   "outputs": [],
   "source": [
    "data_clustered =  sk.KMeans(n_clusters=3, random_state=0,verbose = 0).fit(data_for_clustering)\n",
    "all_preds = data_clustered.inertia_\n",
    "all_clusters = data_clustered.cluster_centers_\n",
    "display(all_preds)\n",
    "display(all_clusters)"
   ]
  },
  {
   "cell_type": "code",
   "execution_count": null,
   "metadata": {},
   "outputs": [],
   "source": [
    "plt.figure(figsize=(6,6))\n",
    "plt.scatter(np.array(data_for_clustering)[:,0],np.array(data_for_clustering)[:,1],c='b')\n",
    "plt.scatter(all_clusters[:,0],all_clusters[:,1],c=\"r\")"
   ]
  },
  {
   "cell_type": "code",
   "execution_count": null,
   "metadata": {},
   "outputs": [],
   "source": []
  }
 ],
 "metadata": {
  "kernelspec": {
   "display_name": "Python 3",
   "language": "python",
   "name": "python3"
  },
  "language_info": {
   "codemirror_mode": {
    "name": "ipython",
    "version": 3
   },
   "file_extension": ".py",
   "mimetype": "text/x-python",
   "name": "python",
   "nbconvert_exporter": "python",
   "pygments_lexer": "ipython3",
   "version": "3.11.5"
  }
 },
 "nbformat": 4,
 "nbformat_minor": 2
}
